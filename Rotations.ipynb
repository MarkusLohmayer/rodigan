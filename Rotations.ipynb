{
 "cells": [
  {
   "cell_type": "code",
   "execution_count": 8,
   "metadata": {},
   "outputs": [],
   "source": [
    "import numpy as np\n",
    "import numba\n",
    "\n",
    "import rotations\n",
    "import test_rotations"
   ]
  },
  {
   "cell_type": "markdown",
   "metadata": {},
   "source": [
    "## Testing conversions between different representations"
   ]
  },
  {
   "cell_type": "markdown",
   "metadata": {},
   "source": [
    "### Roundtrips between unit quaternions and rotation matrices"
   ]
  },
  {
   "cell_type": "code",
   "execution_count": 9,
   "metadata": {},
   "outputs": [],
   "source": [
    "for i in range(1000):\n",
    "    test_rotations.test_matrix_quaternion()"
   ]
  },
  {
   "cell_type": "code",
   "execution_count": 10,
   "metadata": {},
   "outputs": [],
   "source": [
    "for i in range(1000):\n",
    "    test_rotations.test_quaternion_matrix()"
   ]
  },
  {
   "cell_type": "markdown",
   "metadata": {},
   "source": [
    "### Roundtrips between unit quaternions and Euler vectors"
   ]
  },
  {
   "cell_type": "code",
   "execution_count": 11,
   "metadata": {},
   "outputs": [],
   "source": [
    "for i in range(1000):\n",
    "    test_rotations.test_quaternion_euler()"
   ]
  },
  {
   "cell_type": "code",
   "execution_count": 12,
   "metadata": {},
   "outputs": [
    {
     "name": "stdout",
     "output_type": "stream",
     "text": [
      "known_euler [-1.85290899  1.21164221  3.3365971 ]\n",
      "euler [ 1.05452537 -0.68956838 -1.8989202 ]\n"
     ]
    },
    {
     "ename": "AssertionError",
     "evalue": "",
     "output_type": "error",
     "traceback": [
      "\u001b[0;31m---------------------------------------------------------------------------\u001b[0m",
      "\u001b[0;31mAssertionError\u001b[0m                            Traceback (most recent call last)",
      "\u001b[0;32m<ipython-input-12-7f7e07245468>\u001b[0m in \u001b[0;36m<module>\u001b[0;34m()\u001b[0m\n\u001b[1;32m      1\u001b[0m \u001b[0;32mfor\u001b[0m \u001b[0mi\u001b[0m \u001b[0;32min\u001b[0m \u001b[0mrange\u001b[0m\u001b[0;34m(\u001b[0m\u001b[0;36m1000\u001b[0m\u001b[0;34m)\u001b[0m\u001b[0;34m:\u001b[0m\u001b[0;34m\u001b[0m\u001b[0m\n\u001b[0;32m----> 2\u001b[0;31m     \u001b[0mtest_rotations\u001b[0m\u001b[0;34m.\u001b[0m\u001b[0mtest_euler_quaternion\u001b[0m\u001b[0;34m(\u001b[0m\u001b[0;34m)\u001b[0m\u001b[0;34m\u001b[0m\u001b[0m\n\u001b[0m\u001b[1;32m      3\u001b[0m \u001b[0;34m\u001b[0m\u001b[0m\n\u001b[1;32m      4\u001b[0m \u001b[0;31m# Note: Only works when Euler vector has -2pi < theta < +2pi\u001b[0m\u001b[0;34m\u001b[0m\u001b[0;34m\u001b[0m\u001b[0m\n",
      "\u001b[0;32m~/Dropbox/Master/17Wi/Indien/ElasticRods/test_rotations.py\u001b[0m in \u001b[0;36mtest_euler_quaternion\u001b[0;34m()\u001b[0m\n\u001b[1;32m    101\u001b[0m         \u001b[0mprint\u001b[0m\u001b[0;34m(\u001b[0m\u001b[0;34m\"euler\"\u001b[0m\u001b[0;34m,\u001b[0m \u001b[0meuler\u001b[0m\u001b[0;34m)\u001b[0m\u001b[0;34m\u001b[0m\u001b[0m\n\u001b[1;32m    102\u001b[0m \u001b[0;34m\u001b[0m\u001b[0m\n\u001b[0;32m--> 103\u001b[0;31m     \u001b[0;32massert\u001b[0m \u001b[0mcheck\u001b[0m\u001b[0;34m\u001b[0m\u001b[0m\n\u001b[0m\u001b[1;32m    104\u001b[0m \u001b[0;34m\u001b[0m\u001b[0m\n\u001b[1;32m    105\u001b[0m \u001b[0;34m\u001b[0m\u001b[0m\n",
      "\u001b[0;31mAssertionError\u001b[0m: "
     ]
    }
   ],
   "source": [
    "for i in range(1000):\n",
    "    test_rotations.test_euler_quaternion()\n",
    "    \n",
    "# Note: Only works when Euler vector has -2pi < theta < +2pi"
   ]
  },
  {
   "cell_type": "markdown",
   "metadata": {},
   "source": [
    "### Full roundtrips between rotation matrices and Euler vectors"
   ]
  },
  {
   "cell_type": "code",
   "execution_count": 13,
   "metadata": {},
   "outputs": [],
   "source": [
    "for i in range(1000):\n",
    "    test_rotations.test_matrix_euler()"
   ]
  },
  {
   "cell_type": "code",
   "execution_count": 14,
   "metadata": {},
   "outputs": [
    {
     "name": "stdout",
     "output_type": "stream",
     "text": [
      "known_euler [-1.51886005 -2.58895058  2.59076504]\n",
      "euler [ 0.8879863  1.513604  -1.5146648]\n"
     ]
    },
    {
     "ename": "AssertionError",
     "evalue": "",
     "output_type": "error",
     "traceback": [
      "\u001b[0;31m---------------------------------------------------------------------------\u001b[0m",
      "\u001b[0;31mAssertionError\u001b[0m                            Traceback (most recent call last)",
      "\u001b[0;32m<ipython-input-14-9abcf1767a1d>\u001b[0m in \u001b[0;36m<module>\u001b[0;34m()\u001b[0m\n\u001b[1;32m      1\u001b[0m \u001b[0;32mfor\u001b[0m \u001b[0mi\u001b[0m \u001b[0;32min\u001b[0m \u001b[0mrange\u001b[0m\u001b[0;34m(\u001b[0m\u001b[0;36m1000\u001b[0m\u001b[0;34m)\u001b[0m\u001b[0;34m:\u001b[0m\u001b[0;34m\u001b[0m\u001b[0m\n\u001b[0;32m----> 2\u001b[0;31m     \u001b[0mtest_rotations\u001b[0m\u001b[0;34m.\u001b[0m\u001b[0mtest_euler_matrix\u001b[0m\u001b[0;34m(\u001b[0m\u001b[0;34m)\u001b[0m\u001b[0;34m\u001b[0m\u001b[0m\n\u001b[0m",
      "\u001b[0;32m~/Dropbox/Master/17Wi/Indien/ElasticRods/test_rotations.py\u001b[0m in \u001b[0;36mtest_euler_matrix\u001b[0;34m()\u001b[0m\n\u001b[1;32m    155\u001b[0m         \u001b[0mprint\u001b[0m\u001b[0;34m(\u001b[0m\u001b[0;34m\"euler\"\u001b[0m\u001b[0;34m,\u001b[0m \u001b[0meuler\u001b[0m\u001b[0;34m)\u001b[0m\u001b[0;34m\u001b[0m\u001b[0m\n\u001b[1;32m    156\u001b[0m \u001b[0;34m\u001b[0m\u001b[0m\n\u001b[0;32m--> 157\u001b[0;31m     \u001b[0;32massert\u001b[0m \u001b[0mcheck\u001b[0m\u001b[0;34m\u001b[0m\u001b[0m\n\u001b[0m\u001b[1;32m    158\u001b[0m \u001b[0;34m\u001b[0m\u001b[0m\n\u001b[1;32m    159\u001b[0m     \u001b[0;31m# check additionally if it works for the zero-rotation\u001b[0m\u001b[0;34m\u001b[0m\u001b[0;34m\u001b[0m\u001b[0m\n",
      "\u001b[0;31mAssertionError\u001b[0m: "
     ]
    }
   ],
   "source": [
    "for i in range(1000):\n",
    "    test_rotations.test_euler_matrix()"
   ]
  },
  {
   "cell_type": "markdown",
   "metadata": {},
   "source": [
    "### Other tests"
   ]
  },
  {
   "cell_type": "code",
   "execution_count": 15,
   "metadata": {},
   "outputs": [],
   "source": [
    "test_rotations.test_quaternion_from_euler()"
   ]
  },
  {
   "cell_type": "code",
   "execution_count": 16,
   "metadata": {},
   "outputs": [],
   "source": [
    "for i in range(1000):\n",
    "    test_rotations.test_matrix_from_euler()"
   ]
  },
  {
   "cell_type": "code",
   "execution_count": 17,
   "metadata": {},
   "outputs": [],
   "source": [
    "test_rotations.test_update_euler()"
   ]
  },
  {
   "cell_type": "markdown",
   "metadata": {},
   "source": [
    "## Rotations greater than pi are broken!!!"
   ]
  },
  {
   "cell_type": "code",
   "execution_count": 18,
   "metadata": {},
   "outputs": [],
   "source": [
    "def roundtrip(euler):\n",
    "    \n",
    "    euler = np.copy(euler)\n",
    "    \n",
    "    rev = int(np.linalg.norm(euler) / np.pi)\n",
    "    print(\"rev\", rev)\n",
    "    \n",
    "    if rev > 0:\n",
    "        euler /= rev*np.pi\n",
    "    \n",
    "    quaternion = rotations.quaternion_from_euler(euler)\n",
    "\n",
    "    matrix = rotations.matrix_from_quaternion(quaternion)\n",
    "    \n",
    "    quaternion2 = rotations.quaternion_from_matrix(matrix)\n",
    "    \n",
    "    assert np.allclose(quaternion, quaternion2)\n",
    "    \n",
    "    euler2 = rotations.euler_from_quaternion(quaternion2)\n",
    "    \n",
    "    if rev>0:\n",
    "        euler2 *= rev*np.pi\n",
    "    \n",
    "    return euler2"
   ]
  },
  {
   "cell_type": "code",
   "execution_count": 19,
   "metadata": {},
   "outputs": [],
   "source": [
    "def test_euler_matrix():\n",
    "    while True:\n",
    "        known_euler = np.random.normal(loc=0.0, scale=2*np.pi, size=3)\n",
    "        if np.linalg.norm(known_euler) < 5*np.pi:\n",
    "            break\n",
    "\n",
    "    euler = roundtrip(known_euler)\n",
    "\n",
    "    check = np.allclose(known_euler, euler)\n",
    "\n",
    "    if not check:\n",
    "        print(\"known_euler\", known_euler)\n",
    "        print(\"euler\", euler)\n",
    "\n",
    "    assert check"
   ]
  },
  {
   "cell_type": "code",
   "execution_count": 37,
   "metadata": {},
   "outputs": [
    {
     "name": "stdout",
     "output_type": "stream",
     "text": [
      "rev 4\n"
     ]
    }
   ],
   "source": [
    "test_euler_matrix()"
   ]
  },
  {
   "cell_type": "markdown",
   "metadata": {},
   "source": [
    "## Interpolation of rotations"
   ]
  },
  {
   "cell_type": "code",
   "execution_count": 38,
   "metadata": {},
   "outputs": [],
   "source": [
    "def random_euler_and_SO3():\n",
    "    # create a random rotation in axis-angle representation\n",
    "    while True:\n",
    "        euler = np.random.normal(loc=0.0, scale=1.0, size=3)\n",
    "        if np.linalg.norm(euler) < 1*np.pi:\n",
    "            break\n",
    "\n",
    "    # convert to a matrix\n",
    "    matrix = rotations.matrix_from_quaternion(rotations.quaternion_from_euler(euler))\n",
    "    \n",
    "    assert np.allclose(np.dot(matrix, matrix.T), np.eye(3))\n",
    "    \n",
    "    return euler, matrix"
   ]
  },
  {
   "cell_type": "code",
   "execution_count": 39,
   "metadata": {},
   "outputs": [],
   "source": [
    "def interpolate_euler(euler_left, euler_right):\n",
    "    return (euler_left + euler_right) / 2"
   ]
  },
  {
   "cell_type": "code",
   "execution_count": 40,
   "metadata": {},
   "outputs": [],
   "source": [
    "#@numba.jit(numba.float64[:, :](numba.float64[:, :], numba.float64[:, :]), nopython=True)\n",
    "def interpolate_matrix(matrix_left, matrix_right):\n",
    "    Qd = np.dot(matrix_right, matrix_left.T)\n",
    "    ed = rotations.euler_from_quaternion(rotations.quaternion_from_matrix(Qd))\n",
    "\n",
    "    ed2 = ed / 2    \n",
    "    Qd2 = rotations.matrix_from_quaternion(rotations.quaternion_from_euler(ed2))\n",
    "    \n",
    "    Qi = np.dot(Qd2, matrix_left)\n",
    "    return Qi"
   ]
  },
  {
   "cell_type": "code",
   "execution_count": 278,
   "metadata": {},
   "outputs": [],
   "source": [
    "def experiment():\n",
    "    el, Ql = random_euler_and_SO3()\n",
    "    er, Qr = random_euler_and_SO3()\n",
    "    \n",
    "    ei_raw = interpolate_euler(el, er)\n",
    "    Qi_raw = rotations.matrix_from_quaternion(rotations.quaternion_from_euler(ei_raw))\n",
    "    \n",
    "    Qi = interpolate_matrix(Ql, Qr)\n",
    "    \n",
    "    rel_error = np.linalg.norm(Qi_raw - Qi) / np.linalg.norm(Qi)\n",
    "    \n",
    "    if rel_error > 1:\n",
    "        print('el', el)\n",
    "        print('er', er)\n",
    "        print('norm ei_raw', np.linalg.norm(ei_raw))\n",
    "    \n",
    "    print(rel_error * 100, 'percent')\n",
    "    print(np.linalg.norm(el) / np.pi, np.linalg.norm(er) / np.pi)\n",
    "    return el, er, Qi, Qi_raw"
   ]
  },
  {
   "cell_type": "code",
   "execution_count": 319,
   "metadata": {
    "scrolled": true
   },
   "outputs": [
    {
     "name": "stdout",
     "output_type": "stream",
     "text": [
      "el [-1.17536511 -0.46418604  2.61488688]\n",
      "er [ 1.5442882   1.89001636 -0.1636673 ]\n",
      "norm ei_raw 1.42982287065\n",
      "163.298915341 percent\n",
      "0.924446947878 0.778641864976\n"
     ]
    }
   ],
   "source": [
    "el, er, Qi, Qi_raw = experiment()"
   ]
  },
  {
   "cell_type": "code",
   "execution_count": 261,
   "metadata": {},
   "outputs": [
    {
     "data": {
      "text/plain": [
       "array([[ 0.50697046,  0.76058235, -0.40558037],\n",
       "       [-0.29093025,  0.59390643,  0.75008982],\n",
       "       [ 0.81138187, -0.26227778,  0.52236943]])"
      ]
     },
     "execution_count": 261,
     "metadata": {},
     "output_type": "execute_result"
    }
   ],
   "source": [
    "Ql = rotations.matrix_from_euler(el)\n",
    "Qr = rotations.matrix_from_euler(er)\n",
    "Qi = interpolate_matrix(Ql, Qr)\n",
    "np.dot(Qi, Ql.T)"
   ]
  },
  {
   "cell_type": "code",
   "execution_count": 262,
   "metadata": {},
   "outputs": [
    {
     "data": {
      "text/plain": [
       "array([[ 0.50697046,  0.76058235, -0.40558037],\n",
       "       [-0.29093025,  0.59390643,  0.75008982],\n",
       "       [ 0.81138187, -0.26227778,  0.52236943]])"
      ]
     },
     "execution_count": 262,
     "metadata": {},
     "output_type": "execute_result"
    }
   ],
   "source": [
    "np.dot(Qr, Qi.T)"
   ]
  },
  {
   "cell_type": "code",
   "execution_count": 55,
   "metadata": {},
   "outputs": [],
   "source": [
    "def SO3_from_theta(theta):\n",
    "    matrix = np.array([[+np.cos(theta), -np.sin(theta), 0],\n",
    "                       [+np.sin(theta), +np.cos(theta), 0],\n",
    "                       [0, 0, 1]])\n",
    "    return matrix"
   ]
  },
  {
   "cell_type": "code",
   "execution_count": 56,
   "metadata": {},
   "outputs": [
    {
     "data": {
      "text/plain": [
       "array([[-0.9899925 , -0.14112001,  0.        ],\n",
       "       [ 0.14112001, -0.9899925 ,  0.        ],\n",
       "       [ 0.        ,  0.        ,  1.        ]])"
      ]
     },
     "execution_count": 56,
     "metadata": {},
     "output_type": "execute_result"
    }
   ],
   "source": [
    "Ql = SO3_from_theta(2)\n",
    "Qr = SO3_from_theta(4)\n",
    "Qi = interpolate_matrix(Ql, Qr)\n",
    "Qi"
   ]
  },
  {
   "cell_type": "code",
   "execution_count": 57,
   "metadata": {
    "scrolled": true
   },
   "outputs": [
    {
     "data": {
      "text/plain": [
       "array([[-0.9899925 , -0.14112001,  0.        ],\n",
       "       [ 0.14112001, -0.9899925 ,  0.        ],\n",
       "       [ 0.        ,  0.        ,  1.        ]])"
      ]
     },
     "execution_count": 57,
     "metadata": {},
     "output_type": "execute_result"
    }
   ],
   "source": [
    "SO3_from_theta(3)"
   ]
  },
  {
   "cell_type": "code",
   "execution_count": 60,
   "metadata": {},
   "outputs": [],
   "source": [
    "el, Ql = random_euler_and_SO3()\n",
    "er, Qr = random_euler_and_SO3()"
   ]
  },
  {
   "cell_type": "code",
   "execution_count": 61,
   "metadata": {},
   "outputs": [
    {
     "name": "stdout",
     "output_type": "stream",
     "text": [
      "1.95 µs ± 18.7 ns per loop (mean ± std. dev. of 7 runs, 1000000 loops each)\n"
     ]
    }
   ],
   "source": [
    "%timeit interpolate_euler(el, er)"
   ]
  },
  {
   "cell_type": "code",
   "execution_count": 62,
   "metadata": {},
   "outputs": [
    {
     "name": "stdout",
     "output_type": "stream",
     "text": [
      "12.5 µs ± 507 ns per loop (mean ± std. dev. of 7 runs, 100000 loops each)\n"
     ]
    }
   ],
   "source": [
    "%timeit interpolate_matrix(Ql, Qr)"
   ]
  }
 ],
 "metadata": {
  "kernelspec": {
   "display_name": "Python 3",
   "language": "python",
   "name": "python3"
  },
  "language_info": {
   "codemirror_mode": {
    "name": "ipython",
    "version": 3
   },
   "file_extension": ".py",
   "mimetype": "text/x-python",
   "name": "python",
   "nbconvert_exporter": "python",
   "pygments_lexer": "ipython3",
   "version": "3.5.4"
  }
 },
 "nbformat": 4,
 "nbformat_minor": 2
}
