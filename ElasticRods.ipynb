{
 "cells": [
  {
   "cell_type": "code",
   "execution_count": 1,
   "metadata": {},
   "outputs": [],
   "source": [
    "import numpy as np\n",
    "\n",
    "import numba\n",
    "\n",
    "import matplotlib.pyplot as plt\n",
    "%matplotlib inline\n",
    "\n",
    "import auxiliary\n",
    "import rotations"
   ]
  },
  {
   "cell_type": "markdown",
   "metadata": {},
   "source": [
    "### Geometric properties"
   ]
  },
  {
   "cell_type": "code",
   "execution_count": 2,
   "metadata": {},
   "outputs": [],
   "source": [
    "# length of the rod\n",
    "length = 0.1\n",
    "\n",
    "# diameter\n",
    "radius = 0.0005\n",
    "\n",
    "# cross-section area\n",
    "A = np.pi * radius**2\n",
    "\n",
    "# second moment of area\n",
    "I = np.pi * radius**4 / 4"
   ]
  },
  {
   "cell_type": "markdown",
   "metadata": {},
   "source": [
    "### Material properties"
   ]
  },
  {
   "cell_type": "code",
   "execution_count": 3,
   "metadata": {},
   "outputs": [],
   "source": [
    "# E-modulus\n",
    "E = 200e9\n",
    "\n",
    "# shear modulus\n",
    "G =  85e9\n",
    "\n",
    "#?? names\n",
    "GA = G * A\n",
    "EA = E * A\n",
    "EI = E * I\n",
    "GJ = 2 * G * I\n",
    "\n",
    "# elasticity tensor\n",
    "C = np.diag([GA, GA, EA, EI, EI, GJ])"
   ]
  },
  {
   "cell_type": "markdown",
   "metadata": {},
   "source": [
    "### Dicretization properties"
   ]
  },
  {
   "cell_type": "code",
   "execution_count": 4,
   "metadata": {},
   "outputs": [],
   "source": [
    "# number of elements\n",
    "n_el = 100\n",
    "\n",
    "# number of nodes\n",
    "n_n = n_el + 1\n",
    "\n",
    "# length of each element\n",
    "h_vector = np.ones((n_el)) * (length / n_el)"
   ]
  },
  {
   "cell_type": "markdown",
   "metadata": {},
   "source": [
    "### Solution variables\n",
    "\n",
    "Declaration in global namespace and initialization as a undeformed reference configuration"
   ]
  },
  {
   "cell_type": "code",
   "execution_count": 5,
   "metadata": {},
   "outputs": [],
   "source": [
    "# centerline displacement at each node\n",
    "centerline = np.zeros((3, n_n), dtype=float)\n",
    "for i in range(n_el):\n",
    "    centerline[2, i+1] = centerline[2, i] + h_vector[i]\n",
    "\n",
    "# rotation of crosssection at each node,\n",
    "# axis-angle representation: 1 Euler vector per node\n",
    "rotation = np.zeros((3, n_n), dtype=float)"
   ]
  },
  {
   "cell_type": "code",
   "execution_count": 6,
   "metadata": {},
   "outputs": [
    {
     "data": {
      "image/png": "[encoded data removed]",
      "text/plain": [
       "<matplotlib.figure.Figure at 0x1152c6898>"
      ]
     },
     "metadata": {},
     "output_type": "display_data"
    }
   ],
   "source": [
    "auxiliary.plot_centerline(centerline)"
   ]
  },
  {
   "cell_type": "markdown",
   "metadata": {},
   "source": [
    "### Boundary conditions\n",
    "\n",
    "The left end of the rod (i.e. s=0, node 0) is a Dirichlet boundary.\n",
    "\n",
    "The right end of the rod (i.e. s=0.1, node `n_e = n_n-1`) is a Neumann boundary."
   ]
  },
  {
   "cell_type": "code",
   "execution_count": 7,
   "metadata": {},
   "outputs": [],
   "source": [
    "# force boundary condition at the right end (transverse load)\n",
    "b1 = np.array([0, 1, 0, 0, 0, 0], dtype=float)"
   ]
  },
  {
   "cell_type": "markdown",
   "metadata": {},
   "source": [
    "### Newton-Rhapson"
   ]
  },
  {
   "cell_type": "code",
   "execution_count": 13,
   "metadata": {},
   "outputs": [],
   "source": [
    "def staticsolver():\n",
    "    \n",
    "    # counting iterations\n",
    "    iteration = 0 \n",
    "    \n",
    "    # displacement increment vector\n",
    "    increments = np.zeros((6*n_n), dtype=float)\n",
    "    \n",
    "    # norm of global incremental displacement vector\n",
    "    # to keep track of convergence\n",
    "    increments_norm = 0\n",
    "\n",
    "    # must be stored persistently, so we can use Simo's update formula\n",
    "    second_strain_invariant = np.zeros((3, n_el), dtype=float)\n",
    "    \n",
    "    \n",
    "    # norm of residual vector\n",
    "    # to keep track of convergence\n",
    "    residuals_norm = 0\n",
    "    \n",
    "    \n",
    "    # empty array for logging transverse load (at s=1, in direction 2)\n",
    "    #load_data = np.array([], dtype=float)\n",
    "    \n",
    "    # empty array for logging transverse displacement (at last node, in direction 2)\n",
    "    #displacement_data = np.array([], dtype=float)\n",
    "    \n",
    "    \n",
    "    # we start simulation without load and increase the load gradually\n",
    "    # -> load-controlled Newton-Rhapson\n",
    "    desired_transverse_load = b1[1]\n",
    "    b1[1] = 0\n",
    "    \n",
    "    \n",
    "    # begin Newton-Rhapson iterations\n",
    "    while(b1[1] < desired_transverse_load):\n",
    "        iteration += 1\n",
    "    \n",
    "        # display output\n",
    "        #print('iteration', iteration)\n",
    "        #print('increments_norm', increments_norm)\n",
    "        #print('residuals_norm', residuals_norm)\n",
    "        #print('transverse load', b1[1])\n",
    "    \n",
    "        # when converged, change of boundary condition (load control)\n",
    "        if(increments_norm < 1e-4 and residuals_norm < 1e-4):\n",
    "\n",
    "            # logging\n",
    "            #load_data = np.append(load_data, b1[1])\n",
    "            #displacement_data = np.append(displacement_data, centerline[1, -1])\n",
    "            #??col   = [b1[1], z0[1, -1], b1[1]*L**3/(3*EI)]\n",
    "            \n",
    "            # increasing transverse load\n",
    "            b1[1] += 0.1\n",
    "    \n",
    "        #plot3(z0(3,:),z0(1,:),z0(2,:));\n",
    "        #pause(.001);\n",
    "        \n",
    "        #increments_norm, residuals_norm = newton_iteration(increments, second_strain_invariant)\n",
    "        increments_norm, residuals_norm = newton_iteration(centerline, rotation, increments, second_strain_invariant)\n",
    "\n",
    "    #plot(data1(:,1),data1(:,2),'r');\n",
    "    #plot(data1(:,1),data1(:,3),'b');\n",
    "    #plt.plot(np.arange(len(load_data)), load_data)"
   ]
  },
  {
   "cell_type": "markdown",
   "metadata": {},
   "source": [
    "### Linearizing and solving the linearized problem"
   ]
  },
  {
   "cell_type": "code",
   "execution_count": 12,
   "metadata": {
    "scrolled": false
   },
   "outputs": [],
   "source": [
    "@numba.jit(numba.types.UniTuple(numba.float64, 2)(numba.float64[:, :], numba.float64[:, :], numba.float64[:], numba.float64[:, :]), nopython=True)\n",
    "def newton_iteration(centerline, rotation, increments, second_strain_invariant):\n",
    "    \n",
    "    # global residuals vector\n",
    "    residuals = np.zeros((6*n_n), dtype=numba.float64)\n",
    "    \n",
    "    # global Jacobian matrix\n",
    "    jac = np.zeros((6*n_n, 6*n_n), dtype=numba.float64)\n",
    "    \n",
    "    \n",
    "    # iterating over all elements\n",
    "    for i in range(1, n_n):\n",
    "        \n",
    "        # update configuration of element ...\n",
    "        \n",
    "        # update centerline at right node of element\n",
    "        centerline[:, i] += increments[6*i:6*i+3]\n",
    "        \n",
    "        # update rotation at right node of element\n",
    "        rotation[:, i] = rotations.update_euler(rotation[:, i], increments[6*i+3:6*i+6])\n",
    "        \n",
    "        \n",
    "        \n",
    "        # compute rotation matrix at midpoint of element ...\n",
    "        \n",
    "        # note that this interpolation is an approximation\n",
    "        mid_euler = (rotation[:, i-1] + rotation[:, i]) / 2\n",
    "        if np.linalg.norm(rotation[:, i] - rotation[:, i-1]) > np.pi:\n",
    "            # required because extracted axial vector may differ by 2*pi\n",
    "            print(\"a strange thing happened\")\n",
    "            # this is a hack!\n",
    "            mid_euler = rotation[:, i-1]\n",
    "        R = rotations.matrix_from_euler(mid_euler)\n",
    "        \n",
    "        \n",
    "        \n",
    "        # compute first invariant strain measure in the element ...\n",
    "        \n",
    "        # compute translational displacement tangent vector\n",
    "        h = h_vector[i-1]\n",
    "        centerline_tangent = (centerline[:, i] - centerline[:, i-1]) / h\n",
    "        \n",
    "        # first invariant strain measure\n",
    "        first_strain_invariant = np.dot(R.T, centerline_tangent)\n",
    "        # no axial strain <=> lambda_3 = 1\n",
    "        first_strain_invariant[2] -= 1\n",
    "        \n",
    "        \n",
    "        \n",
    "        # compute second invariant strain measure in the element using Simo's formula ...\n",
    "        \n",
    "        # incremental rotation tangent vector\n",
    "        incremental_euler_tangent = (increments[6*i+3:6*i+6] - increments[6*(i-1)+3:6*(i-1)+6]) / h\n",
    "        \n",
    "        # incremental Euler vector at midpoint of element\n",
    "        mid_incremental_euler = (increments[6*i+3:6*i+6] + increments[6*(i-1)+3:6*(i-1)+6]) / 2\n",
    "        norm_of_mid_incremental_euler = np.linalg.norm(mid_incremental_euler)\n",
    "        \n",
    "        # compute beta\n",
    "        if norm_of_mid_incremental_euler < 1e-6:\n",
    "            # use asymptotic approximation of Simo's formula to save computational cost\n",
    "            beta = incremental_euler_tangent + \\\n",
    "                   0.5*auxiliary.cross(mid_incremental_euler, incremental_euler_tangent)\n",
    "        else:\n",
    "            x = np.sin(norm_of_mid_incremental_euler) / norm_of_mid_incremental_euler\n",
    "            delu = mid_incremental_euler / norm_of_mid_incremental_euler\n",
    "            beta = x*incremental_euler_tangent + \\\n",
    "                   (1-x) * np.dot(delu.T, incremental_euler_tangent) * delu + \\\n",
    "                   2 * (np.sin(0.5*norm_of_mid_incremental_euler) / norm_of_mid_incremental_euler)**2 * auxiliary.cross(mid_incremental_euler, incremental_euler_tangent)\n",
    "        \n",
    "        # updating the second strain invariant\n",
    "        second_strain_invariant[:, i-1] += np.dot(R.T, beta)\n",
    "        \n",
    "        \n",
    "        \n",
    "        # compute internal reactions in inertial frame of the element ...\n",
    "        \n",
    "        forces = np.dot(R, np.array([C[0, 0]*first_strain_invariant[0],\n",
    "                                     C[1, 1]*first_strain_invariant[1],\n",
    "                                     C[2, 2]*first_strain_invariant[2]]))\n",
    "        \n",
    "        moments = np.dot(R, np.array([C[3, 3]*second_strain_invariant[0, i-1],\n",
    "                                      C[4, 4]*second_strain_invariant[1, i-1],\n",
    "                                      C[5, 5]*second_strain_invariant[2, i-1]]))\n",
    "        \n",
    "        \n",
    "        \n",
    "        # add contriubutions of the element to residual vector ...\n",
    "        \n",
    "        # contributions from internal forces and moments ??-crossphin\n",
    "        crossphin = 0.5*h*auxiliary.cross(centerline_tangent, forces)\n",
    "        residuals[6*(i-1):6*i] += np.hstack((-forces, -crossphin - moments))\n",
    "        residuals[6*i:6*(i+1)] += np.hstack((+forces, -crossphin + moments))\n",
    "\n",
    "        \n",
    "        \n",
    "        # add contributions of the element to Jacobian matrix ...              \n",
    "        \n",
    "        # ?? symmetrize?\n",
    "        C11 = np.dot(np.dot(R, C[0:3, 0:3]), R.T)\n",
    "        C11 = (C11 + C11.T) / 2\n",
    "        C12 = np.dot(np.dot(R, C[0:3, 3:6]), R.T)\n",
    "        C21 = C12.T\n",
    "        C22 = np.dot(np.dot(R, C[3:6, 3:6]), R.T)\n",
    "        C22 = (C22 + C22.T) / 2\n",
    "\n",
    "        centerline_tangent_cross = auxiliary.skew_matrix_from_vector(centerline_tangent)\n",
    "        forces_cross = auxiliary.skew_matrix_from_vector(forces)\n",
    "        moments_cross = auxiliary.skew_matrix_from_vector(moments)\n",
    "\n",
    "        # material tangent stiffness (symmetric part)\n",
    "        jac[6*(i-1):6*i, 6*(i-1):6*i] += np.vstack((np.hstack((C11 / h,\n",
    "                                                               -0.5*np.dot(C11, centerline_tangent_cross) + C12 / h)),\n",
    "                                                    np.hstack((-0.5*np.dot(centerline_tangent_cross.T, C11) + C21 / h,\n",
    "                                                               np.dot(np.dot(centerline_tangent_cross.T, C11), centerline_tangent_cross)*(h / 3) - 0.5*np.dot(centerline_tangent_cross.T, C12) + np.dot(C21, centerline_tangent_cross) + C22 / h))))\n",
    "        \n",
    "        jac[6*i:6*(i+1), 6*i:6*(i+1)] += np.vstack((np.hstack((C11 / h,\n",
    "                                                               0.5*np.dot(C11, centerline_tangent_cross) + C12 / h)),\n",
    "                                                    np.hstack((0.5*np.dot(centerline_tangent_cross.T, C11) + C21 / h,\n",
    "                                                               np.dot(np.dot(centerline_tangent_cross.T, C11), centerline_tangent_cross)*(h / 3) + 0.5*np.dot(centerline_tangent_cross.T, C12) + np.dot(C21, centerline_tangent_cross) + C22 / h))))\n",
    "        \n",
    "        jac[6*i:6*(i+1), 6*(i-1):6*i] += np.vstack((np.hstack((-C11 / h,\n",
    "                                                               0.5*np.dot(C11, centerline_tangent_cross) - C12 / h)),\n",
    "                                                    np.hstack((-0.5*np.dot(centerline_tangent_cross.T, C11) - C21 / h,\n",
    "                                                               np.dot(np.dot(centerline_tangent_cross.T, C11), centerline_tangent_cross)*(h / 6) - 0.5*np.dot(centerline_tangent_cross.T, C12) - np.dot(C21, centerline_tangent_cross) - C22 / h))))\n",
    "        \n",
    "        jac[6*(i-1):6*i, 6*i:6*(i+1)] += np.vstack((np.hstack((-C11 / h,\n",
    "                                                               -0.5*np.dot(C11, centerline_tangent_cross) - C12 / h)),\n",
    "                                                    np.hstack((0.5*np.dot(centerline_tangent_cross.T, C11) - C21 / h,\n",
    "                                                               np.dot(np.dot(centerline_tangent_cross.T, C11), centerline_tangent_cross)*(h / 6) + 0.5*np.dot(centerline_tangent_cross.T, C12) - np.dot(C21, centerline_tangent_cross) - C22 / h))))\n",
    "        \n",
    "        # geometric tangent stiffness (non-symmetric)\n",
    "        jac[6*(i-1):6*i, 6*(i-1):6*i] += np.vstack((np.hstack((np.zeros((3,3)), 0.5*forces_cross)),\n",
    "                                                    np.hstack((-0.5*forces_cross, 0.5*moments_cross - np.dot(centerline_tangent_cross.T, forces_cross)*(h / 3)))))\n",
    "        \n",
    "        jac[6*i:6*(i+1), 6*i:6*(i+1)] += np.vstack((np.hstack((np.zeros((3,3)), -0.5*forces_cross)),\n",
    "                                                    np.hstack((0.5*forces_cross, -0.5*moments_cross - np.dot(centerline_tangent_cross.T, forces_cross)*(h / 3)))))\n",
    "        \n",
    "        jac[6*i:6*(i+1), 6*(i-1):6*i] += np.vstack((np.hstack((np.zeros((3,3)), -0.5*forces_cross)),\n",
    "                                                    np.hstack((-0.5*forces_cross, -0.5*moments_cross - np.dot(centerline_tangent_cross.T, forces_cross)*(h / 6)))))\n",
    "        \n",
    "        jac[6*(i-1):6*i, 6*i:6*(i+1)] += np.vstack((np.hstack((np.zeros((3,3)), 0.5*forces_cross)),\n",
    "                                                    np.hstack((0.5*forces_cross, 0.5*moments_cross - np.dot(centerline_tangent_cross.T, forces_cross)*(h / 6)))))\n",
    "        \n",
    "        # tangent due to distributive load\n",
    "        \n",
    "        # tangent due to boundary loads\n",
    "        \n",
    "    \n",
    "    # apply Neumann boundary conditions\n",
    "    #residuals[0:6] += b0 # is a Dirichlet boundary\n",
    "    residuals[-6:] -= b1\n",
    "                                                                                                                         \n",
    "    # solve the linearized problem\n",
    "    increments[6:] = np.linalg.solve(-jac[6:, 6:], residuals[6:])\n",
    "                                                                                                             \n",
    "    increments_norm = np.linalg.norm(increments[6:])\n",
    "    \n",
    "    # ??                                                                                                                     \n",
    "    if increments_norm > 1:\n",
    "        increments[6:] = increments[6:] / increments_norm\n",
    "    \n",
    "    residuals_norm = np.linalg.norm(residuals[6:])\n",
    "\n",
    "    return increments_norm, residuals_norm"
   ]
  },
  {
   "cell_type": "code",
   "execution_count": 14,
   "metadata": {},
   "outputs": [
    {
     "name": "stdout",
     "output_type": "stream",
     "text": [
      "CPU times: user 1.12 s, sys: 49.4 ms, total: 1.17 s\n",
      "Wall time: 303 ms\n"
     ]
    }
   ],
   "source": [
    "b1[1] = 1\n",
    "%time staticsolver()"
   ]
  },
  {
   "cell_type": "code",
   "execution_count": 15,
   "metadata": {},
   "outputs": [
    {
     "data": {
      "image/png": "[encoded data removed]",
      "text/plain": [
       "<matplotlib.figure.Figure at 0x114eda8d0>"
      ]
     },
     "metadata": {},
     "output_type": "display_data"
    }
   ],
   "source": [
    "auxiliary.plot_centerline(centerline)"
   ]
  }
 ],
 "metadata": {
  "kernelspec": {
   "display_name": "Python 3",
   "language": "python",
   "name": "python3"
  },
  "language_info": {
   "codemirror_mode": {
    "name": "ipython",
    "version": 3
   },
   "file_extension": ".py",
   "mimetype": "text/x-python",
   "name": "python",
   "nbconvert_exporter": "python",
   "pygments_lexer": "ipython3",
   "version": "3.5.4"
  }
 },
 "nbformat": 4,
 "nbformat_minor": 2
}
