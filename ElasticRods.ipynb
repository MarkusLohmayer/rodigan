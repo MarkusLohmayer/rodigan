{
 "cells": [
  {
   "cell_type": "code",
   "execution_count": 1,
   "metadata": {},
   "outputs": [],
   "source": [
    "import numpy as np\n",
    "\n",
    "import numba\n",
    "\n",
    "import matplotlib.pyplot as plt\n",
    "%matplotlib inline\n",
    "from mpl_toolkits.mplot3d import Axes3D\n",
    "\n",
    "from auxiliary import *"
   ]
  },
  {
   "cell_type": "markdown",
   "metadata": {},
   "source": [
    "### Geometric properties"
   ]
  },
  {
   "cell_type": "code",
   "execution_count": null,
   "metadata": {},
   "outputs": [],
   "source": [
    "# length of the rod\n",
    "length = 0.1\n",
    "\n",
    "# diameter\n",
    "radius = 0.0005\n",
    "\n",
    "# cross-section area\n",
    "A = np.pi * radius**2\n",
    "\n",
    "# second moment of area\n",
    "I = np.pi * radius**4 / 4"
   ]
  },
  {
   "cell_type": "markdown",
   "metadata": {},
   "source": [
    "### Material properties"
   ]
  },
  {
   "cell_type": "code",
   "execution_count": null,
   "metadata": {},
   "outputs": [],
   "source": [
    "# E-modulus\n",
    "E = 200e9\n",
    "\n",
    "# shear modulus\n",
    "G =  85e9\n",
    "\n",
    "#?? names\n",
    "GA = G * A\n",
    "EA = E * A\n",
    "EI = E * I\n",
    "GJ = 2 * G * I\n",
    "\n",
    "# elasticity tensor\n",
    "C = np.diag([GA, GA, EA, EI, EI, GJ])"
   ]
  },
  {
   "cell_type": "markdown",
   "metadata": {},
   "source": [
    "### Dicretization properties"
   ]
  },
  {
   "cell_type": "code",
   "execution_count": null,
   "metadata": {},
   "outputs": [],
   "source": [
    "# number of elements\n",
    "n_el = 100\n",
    "\n",
    "# number of nodes\n",
    "n_n = n_el + 1\n",
    "\n",
    "# length of each element\n",
    "h = np.ones((n_el)) * (length / n_el)"
   ]
  },
  {
   "cell_type": "markdown",
   "metadata": {},
   "source": [
    "### Solution variables\n",
    "\n",
    "Declaration in global namespace and initialization"
   ]
  },
  {
   "cell_type": "code",
   "execution_count": null,
   "metadata": {},
   "outputs": [],
   "source": [
    "# centerline displacement at each node\n",
    "centerline = np.zeros((3, n_n))\n",
    "for i in range(n_el):\n",
    "    centerline[2, i+1] = centerline[2, i] + h[i]\n",
    "\n",
    "# rotation vector at each node\n",
    "rotation = np.zeros((3, n_n))"
   ]
  },
  {
   "cell_type": "code",
   "execution_count": null,
   "metadata": {},
   "outputs": [],
   "source": [
    "plot_centerline(centerline)"
   ]
  },
  {
   "cell_type": "markdown",
   "metadata": {},
   "source": [
    "### Boundary conditions??"
   ]
  },
  {
   "cell_type": "code",
   "execution_count": null,
   "metadata": {},
   "outputs": [],
   "source": [
    "# force boundary condition at s = 0\n",
    "#?? Dirichlet boundary\n",
    "b0 = np.array([0, 0, 0, 0, 0, 0])\n",
    "\n",
    "# force boundary condition at s = 1\n",
    "# ??unknown transverse load\n",
    "b1 = np.array([0, 0, 0, 0, 0, 0])"
   ]
  },
  {
   "cell_type": "markdown",
   "metadata": {},
   "source": [
    "### ???"
   ]
  },
  {
   "cell_type": "code",
   "execution_count": null,
   "metadata": {},
   "outputs": [],
   "source": [
    "# displacement increment vector\n",
    "increments = np.zeros((6*(n_n), 1))"
   ]
  },
  {
   "cell_type": "code",
   "execution_count": null,
   "metadata": {},
   "outputs": [],
   "source": [
    "# curvature vector in each element\n",
    "kappa = np.zeros((3, n_el))"
   ]
  },
  {
   "cell_type": "markdown",
   "metadata": {},
   "source": [
    "### "
   ]
  },
  {
   "cell_type": "code",
   "execution_count": null,
   "metadata": {},
   "outputs": [],
   "source": [
    "def jacobmat():\n",
    "\n",
    "    # global Jacobian matrix\n",
    "    jac = np.zeros((6*n_n, 6*n_n))\n",
    "    \n",
    "    # global residual vector\n",
    "    residual = np.zeros((6*n_n))\n",
    "    \n",
    "    # incremental rotation tangent vector\n",
    "    delthp = np.zeros((3))\n",
    "    \n",
    "    # internal force  vector in inertial frame\n",
    "    N = np.zeros((3))\n",
    "    \n",
    "    # internal moment vector\n",
    "    M = np.zeros((3))\n",
    "    \n",
    "    # translational displacement tangent vector\n",
    "    phip = np.zeros((3))\n",
    "    \n",
    "    # strain vector\n",
    "    gama = np.zeros((3))\n",
    "    \n",
    "    # skew symmetric matrix of N\n",
    "    Nmat = np.zeros((3,3))\n",
    "    \n",
    "    # skew symmetric matrix of M\n",
    "    Mmat = np.zeros((3,3))\n",
    "    \n",
    "    # skew symmetric matrix of phip\n",
    "    phimat = np.zeros((3,3))\n",
    "    \n",
    "\n",
    "    # iterating over all nodes, except the leftmost node (Dirichlet BC)\n",
    "    for i in range(n_el):\n",
    "        \n",
    "        # update centerline at node i\n",
    "        centerline[:, i+1] = centerline[:, i+1] + increments[6*i:6*i+3]\n",
    " \n",
    "        # update rotation at node i\n",
    "        rotation[:, i+1] = update_axis_angle(rotation[:, i+1], increments[6*i+3:6*i+6])\n",
    "        \n",
    "        \n",
    "        \n",
    "        # calculation of rotation matrix at mid point of element\n",
    "\n",
    "        theta = (rotation[:, i-1] + rotation(:, i)) / 2\n",
    "        \n",
    "        # required because extracted axial vector may differ by 2*pi\n",
    "        if(np.linalg.norm(rotation[:, i] - rotation[:, i-1]) > np.pi)\n",
    "            theta = rotation[:, i]\n",
    "        \n",
    "        rotmat = rotation_matrix_from_axis_anlge(theta)\n",
    "        \n",
    "        \n",
    "\n",
    "        # update of strain variables at mid point of element\n",
    "\n",
    "        phip     = (centerline[:, i+1] - centerline[:, i]) / h[i]\n",
    "        gama     = np.dot(rotmat.T, phip)\n",
    "        gama[2]  = gama[2] - 1\n",
    "        \n",
    "        # update of global kappa\n",
    "        delthp  = (increments[6*i+3:6*i+6] - increments[6*i-3:6*i]) / h[i]\n",
    "        delth   = increments[6*i-3:6*i] + (increments[6*i+3:6*i+6] - increments[6*i-3:6*i])/2\n",
    "        nrm     = np.linalg.norm(delth)\n",
    "        if nrm < 1e-6:\n",
    "            delkapa = delthp + 0.5*np.cross(delth, delthp)\n",
    "        else:\n",
    "            x = sin(nrm)/nrm\n",
    "            delu = delth/nrm\n",
    "            delkapa = x*delthp + ((1-x)*(np.dot(delu.T, delthp)))*delu + (2*(np.sin(0.5*nrm)/nrm)**2)*np.cross(delth, delthp)\n",
    "        \n",
    "        kappa[:, i]   = kappa[:, i] + np.dot(rotmat.T, delkapa)\n",
    "\n",
    "        \n",
    "        \n",
    "        \n",
    "        \n",
    "\n",
    "        # !!internal reactions in inertial frame\n",
    "        N  = np.dot(rotmat, [C(1,1)*gama(1);C(2,2)*gama(2);C(3,3)*gama(3)])\n",
    "        M  = rotmat*[C(4,4)*kapa(1,i);C(5,5)*kapa(2,i);C(6,6)*kapa(3,i)]\n",
    "\n",
    "        \n",
    "\n",
    "\n",
    "        # residual and jacobian calculation\n",
    "\n",
    "        crossphin = np.cross(phip, N)\n",
    "        \n",
    "        residue[6*i-6:6*i] = residue[6*i-6:6*i] + np.hstack(-N, -(0.5*h[i])*crossphin - M)\n",
    "        residue[6*i:6*i+6] = residue[6*i:6*i+6] + np.hstack(+N, -(0.5*h[i])*crossphin + M)\n",
    "\n",
    "        C11 = np.dot(np.dot(rotmat, C[0:3, 0:3]), rotmat.T)\n",
    "        C11 = (C11 + C11.T) / 2\n",
    "        C12 = np.dot(np.dot(rotmat, C[0:3, 3:6]), rotmat.T)\n",
    "        C21 = C12.T\n",
    "        C22 = np.dot(np.dot(rotmat, C[3:6, 3:6]), rotmat.T)\n",
    "        C22 = (C22 + C22.T) / 2\n",
    "\n",
    "        phimat = skew_matrix_from_vector(phip)\n",
    "        Nmat = skew_matrix_from_vector(N)\n",
    "        Mmat = skew_matrix_from_vector(M)\n",
    "\n",
    "\n",
    "        # material tangent stiffness (symmetric part)\n",
    "\n",
    "        jac(6*i-5:6*i,6*i-5:6*i)        = jac(6*i-5:6*i,6*i-5:6*i)      + [ C11/h(i)     -.5*(C11*phimat)+C12/h(i); -.5*(phimat'*C11)+C21/h(i)    (phimat'*C11*phimat)*(h(i)/3)-.5*(phimat'*C12+C21*phimat)+C22/h(i)];\n",
    "        jac(6*i+1:6*i+6,6*i+1:6*i+6)    = jac(6*i+1:6*i+6,6*i+1:6*i+6)  + [ C11/h(i)      .5*(C11*phimat)+C12/h(i);  .5*(phimat'*C11)+C21/h(i)    (phimat'*C11*phimat)*(h(i)/3)+.5*(phimat'*C12+C21*phimat)+C22/h(i)];\n",
    "        jac(6*i+1:6*i+6,6*i-5:6*i)      = jac(6*i+1:6*i+6,6*i-5:6*i)    + [-C11/h(i)      .5*(C11*phimat)-C12/h(i); -.5*(phimat'*C11)-C21/h(i)    (phimat'*C11*phimat)*(h(i)/6)-.5*(phimat'*C12-C21*phimat)-C22/h(i)];\n",
    "        jac(6*i-5:6*i,6*i+1:6*i+6)      = jac(6*i-5:6*i,6*i+1:6*i+6)    + [-C11/h(i)     -.5*(C11*phimat)-C12/h(i);  .5*(phimat'*C11)-C21/h(i)    (phimat'*C11*phimat)*(h(i)/6)+.5*(phimat'*C12-C21*phimat)-C22/h(i)];\n",
    "\n",
    "        # geometric tangent stiffness (non-symmetric)\n",
    "\n",
    "        jac[6*i-4:6*i, 6*i-4:6*i]       = jac(6*i-5:6*i,6*i-5:6*i)      + [zeros(3,3)    .5*Nmat;    -.5*Nmat    .5*Mmat-(phimat'*Nmat)*(h(i)/3)];\n",
    "        jac[6*i+0:6*i+6,6*i:6*i+6]    = jac(6*i+1:6*i+6,6*i+1:6*i+6)  + [zeros(3,3)   -.5*Nmat;     .5*Nmat   -.5*Mmat-(phimat'*Nmat)*(h(i)/3)];\n",
    "        jac[6*i+0:6*i+6,6*i-4:6*i]      = jac(6*i+1:6*i+6,6*i-5:6*i)    + [zeros(3,3)   -.5*Nmat;    -.5*Nmat   -.5*Mmat-(phimat'*Nmat)*(h(i)/6)];\n",
    "        jac[6*i-4:6*i, 6*i:6*i+6]      = jac(6*i-5:6*i,6*i+1:6*i+6)    + [zeros(3,3)    .5*Nmat;     .5*Nmat    .5*Mmat-(phimat'*Nmat)*(h(i)/6)];\n",
    "\n",
    "        # tangent due to distributive load\n",
    "\n",
    "        # tangent due to boundary loads\n",
    "    \n",
    "\n",
    "    residue[0:6] = residue[0:6] + b0\n",
    "    residue[-5:] = residue[-5:] - b1\n",
    "\n",
    "    # calculation of displacement increment vector\n",
    "\n",
    "    increments[6:] = np.linalg.solve(-jac[6:, 6:], residue[6:])\n",
    "    \n",
    "    increments_norm = norm(increments[6:])\n",
    "    if increments_norm > 1:\n",
    "        increments[6:] = increments[6:] / increments_norm\n",
    "    \n",
    "    residual_norm = np.linalg.norm(residue[6:])\n",
    "\n",
    "    return increments_norm, residual_norm"
   ]
  },
  {
   "cell_type": "markdown",
   "metadata": {},
   "source": [
    "### Main program"
   ]
  },
  {
   "cell_type": "code",
   "execution_count": null,
   "metadata": {},
   "outputs": [],
   "source": [
    "def staticsolver():\n",
    "    \n",
    "    # iteration number\n",
    "    iteration = 0 \n",
    "    \n",
    "    # initial perturbation in transverse ??displacement\n",
    "    #b1[0] = 0\n",
    "    #desired_load = b1[1]\n",
    "    #b1[1] = 0\n",
    "    \n",
    "    # norm of global incremental displacement vector\n",
    "    increments_norm = 0\n",
    "    \n",
    "    # norm of residual vector\n",
    "    residual_norm = 0\n",
    "    \n",
    "    # empty array for logging transverse load (at s=1, in direction 2)\n",
    "    load_data = np.array([])\n",
    "    \n",
    "    # empty array for logging transverse displacement (at last node, in direction 2)\n",
    "    displacement_data = np.array([])\n",
    "    \n",
    "    \n",
    "    # Newton-Rhapson iterations\n",
    "    \n",
    "    while(b1[1] < 1):\n",
    "        iteration   = iteration + 1\n",
    "    \n",
    "        # display output\n",
    "        print('increments_norm', increments_norm)\n",
    "        print('residual_norm', residual_norm)\n",
    "        print('transverse load', b1[1])\n",
    "    \n",
    "        # when converged, change of boundary condition (load control)\n",
    "        if(increments_norm < 1e-4 and residual_norm < 1e-4):\n",
    "            \n",
    "            # logging\n",
    "            load_data = np.append(load_data, b1[1])\n",
    "            displacement_data = np.append(displacement_data, z0[1, -1])\n",
    "            #??col   = [b1[1], z0[1, -1], b1[1]*L**3/(3*EI)]\n",
    "            \n",
    "            # increasing transverse load\n",
    "            b1[1] = b1[1] + 0.1\n",
    "    \n",
    "    \n",
    "        #plot3(z0(3,:),z0(1,:),z0(2,:));\n",
    "        #pause(.001);\n",
    "    \n",
    "    \n",
    "        increments_norm, residual_norm = jacobmat()\n",
    "\n",
    "    #plot(data1(:,1),data1(:,2),'r');\n",
    "    #plot(data1(:,1),data1(:,3),'b');\n",
    "    plt.plot(np.arange(len(load_data)), load_data)"
   ]
  },
  {
   "cell_type": "code",
   "execution_count": null,
   "metadata": {},
   "outputs": [],
   "source": [
    "staticsolver()"
   ]
  },
  {
   "cell_type": "code",
   "execution_count": null,
   "metadata": {},
   "outputs": [],
   "source": []
  },
  {
   "cell_type": "code",
   "execution_count": null,
   "metadata": {},
   "outputs": [],
   "source": []
  },
  {
   "cell_type": "code",
   "execution_count": null,
   "metadata": {},
   "outputs": [],
   "source": []
  },
  {
   "cell_type": "code",
   "execution_count": null,
   "metadata": {},
   "outputs": [],
   "source": [
    "def test_quaternion_roundtrip():\n",
    "    \"\"\"\n",
    "    Tests the functions `quaternion_from_rotation_matrix` and\n",
    "    `rotation_matrix_from_quaternion` by creating a random\n",
    "    unit quaternion and checking if the composition of the\n",
    "    two functions renders the identity.\n",
    "    \"\"\"\n",
    "    # creating a random unit quaternion\n",
    "    unit_quaternion = np.random.randn(4)\n",
    "    unit_quaternion /= np.linalg.norm(unit_quaternion)\n",
    "    \n",
    "    # apply the composition of the two functions\n",
    "    rotation_matrix = rotation_matrix_from_quaternion(unit_quaternion)\n",
    "    unit_quaternion_test = quaternion_from_rotation_matrix(rotation_matrix)\n",
    "    \n",
    "    print(np.linalg.norm(unit_quaternion_test - unit_quaternion))\n",
    "    \n",
    "    print(unit_quaternion)\n",
    "    \n",
    "    check = np.allclose(unit_quaternion, unit_quaternion_test)\n",
    "    \n",
    "    if not check:\n",
    "        print(unit_quaternion_test)\n",
    "        \n",
    "        # assert that the rotation matrix is unitary\n",
    "        assert np.allclose(np.eye(3), np.dot(rotation_matrix.T, rotation_matrix))\n",
    "    \n",
    "    return check"
   ]
  },
  {
   "cell_type": "code",
   "execution_count": null,
   "metadata": {},
   "outputs": [],
   "source": [
    "test_quaternion_roundtrip()"
   ]
  },
  {
   "cell_type": "code",
   "execution_count": null,
   "metadata": {},
   "outputs": [],
   "source": [
    "test_quaternion_roundtrip2()"
   ]
  },
  {
   "cell_type": "code",
   "execution_count": 4,
   "metadata": {},
   "outputs": [],
   "source": [
    "def test_axis_angle_from_quaternion():\n",
    "    while True:\n",
    "        axis_angle = np.random.normal(loc=0.0, scale=1.0, size=3)\n",
    "        if np.linalg.norm(axis_angle) < 2*np.pi:\n",
    "            break\n",
    "    rotation_matrix = rotation_matrix_from_axis_anlge(axis_angle)\n",
    "    quaternion = quaternion_from_rotation_matrix(rotation_matrix)\n",
    "    \n",
    "    axis_anlge_test = axis_angle_from_quaternion(quaternion)\n",
    "    \n",
    "    check = np.allclose(axis_angle, axis_anlge_test)\n",
    "    \n",
    "    if not check:\n",
    "        print(axis_angle)\n",
    "        print(axis_anlge_test)\n",
    "    print(np.linalg.norm(axis_angle) / (2*np.pi))\n",
    "        \n",
    "    return check"
   ]
  },
  {
   "cell_type": "code",
   "execution_count": 18,
   "metadata": {},
   "outputs": [
    {
     "name": "stdout",
     "output_type": "stream",
     "text": [
      "0.239748000866\n"
     ]
    },
    {
     "data": {
      "text/plain": [
       "True"
      ]
     },
     "execution_count": 18,
     "metadata": {},
     "output_type": "execute_result"
    }
   ],
   "source": [
    "test_axis_angle_from_quaternion()"
   ]
  },
  {
   "cell_type": "code",
   "execution_count": 2,
   "metadata": {},
   "outputs": [
    {
     "data": {
      "text/plain": [
       "array([ 0.,  0.,  0.])"
      ]
     },
     "execution_count": 2,
     "metadata": {},
     "output_type": "execute_result"
    }
   ],
   "source": [
    "axis_angle_from_quaternion(quaternion_from_rotation_matrix(rotation_matrix_from_axis_anlge(np.zeros((3)))))"
   ]
  },
  {
   "cell_type": "code",
   "execution_count": 24,
   "metadata": {},
   "outputs": [
    {
     "data": {
      "image/png": "[encoded data removed]",
      "text/plain": [
       "<matplotlib.figure.Figure at 0x11cf45748>"
      ]
     },
     "metadata": {},
     "output_type": "display_data"
    }
   ],
   "source": [
    "x = np.linspace(-np.pi, np.pi, num=1000)\n",
    "\n",
    "fig, axes = plt.subplots(nrows=2, sharex=True)\n",
    "axes[0].plot(x, np.cos(x));\n",
    "axes[1].plot(x, np.sin(x));"
   ]
  },
  {
   "cell_type": "code",
   "execution_count": null,
   "metadata": {},
   "outputs": [],
   "source": [
    "axis_angle_from_quaternion()\n",
    "\n",
    "quaternion_from_rotation_matrix(rotation_matrix_from_axis_anlge"
   ]
  }
 ],
 "metadata": {
  "kernelspec": {
   "display_name": "Python 3",
   "language": "python",
   "name": "python3"
  },
  "language_info": {
   "codemirror_mode": {
    "name": "ipython",
    "version": 3
   },
   "file_extension": ".py",
   "mimetype": "text/x-python",
   "name": "python",
   "nbconvert_exporter": "python",
   "pygments_lexer": "ipython3",
   "version": "3.5.4"
  }
 },
 "nbformat": 4,
 "nbformat_minor": 2
}
