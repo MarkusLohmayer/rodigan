{
 "cells": [
  {
   "cell_type": "code",
   "execution_count": 1,
   "metadata": {},
   "outputs": [],
   "source": [
    "%matplotlib notebook\n",
    "%matplotlib notebook\n",
    "\n",
    "import numba\n",
    "import numpy as np\n",
    "\n",
    "#import auxiliary\n",
    "import kinematics\n",
    "import constitutive\n",
    "import solver\n",
    "import visualization\n",
    "\n",
    "#import matplotlib.pyplot as plt"
   ]
  },
  {
   "cell_type": "markdown",
   "metadata": {},
   "source": [
    "### Geometric properties and material properties"
   ]
  },
  {
   "cell_type": "code",
   "execution_count": 2,
   "metadata": {},
   "outputs": [],
   "source": [
    "# define geometric properties of the rod\n",
    "geometry = kinematics.Geometry(length=0.01, radius=5e-4)\n",
    "\n",
    "# define material properties of the rod\n",
    "material = constitutive.Material(geometry=geometry, elastic_modulus=200e9, shear_modulus=80e9)\n",
    "\n",
    "# initialize the solver for the cantilever problem (fixed displacement and rotation at leftmost end)\n",
    "cantilever = solver.Cantilever(geometry, material, number_of_elements=100)\n",
    "\n",
    "# set the Neumann boundary condition at the rightmost end\n",
    "cantilever.boundary_condition = np.array([0, 1, 0, 0, 0, 0])"
   ]
  },
  {
   "cell_type": "markdown",
   "metadata": {},
   "source": [
    "### Linearizing and solving the linearized problem"
   ]
  },
  {
   "cell_type": "code",
   "execution_count": 3,
   "metadata": {
    "scrolled": false
   },
   "outputs": [
    {
     "name": "stderr",
     "output_type": "stream",
     "text": [
      "ERROR:root:No traceback has been produced, nothing to debug.\n"
     ]
    },
    {
     "name": "stdout",
     "output_type": "stream",
     "text": [
      "residuals_norm 3.70831123502e-09\n",
      "increments_norm 3.15779046896e-17\n",
      "load_change [ 0.   0.1  0.   0.   0.   0. ]\n",
      "current_load [ 0.   0.1  0.   0.   0.   0. ]\n",
      "residuals_norm 0.1\n",
      "increments_norm 0.00185848915292\n",
      "residuals_norm 0.161912679289\n",
      "increments_norm 0.00186171581889\n",
      "residuals_norm 0.171141145928\n",
      "increments_norm 0.00140029212923\n",
      "residuals_norm 0.159476981337\n",
      "increments_norm 0.000844871429268\n",
      "residuals_norm 0.16334083987\n",
      "increments_norm 0.000334590526719\n",
      "residuals_norm 0.210184147707\n",
      "increments_norm 7.73783708961e-05\n",
      "residuals_norm 0.266851204557\n",
      "increments_norm 0.000376705653227\n",
      "residuals_norm 0.287441160645\n",
      "increments_norm 0.000567887186097\n",
      "residuals_norm 0.292474011237\n",
      "increments_norm 0.000664368818439\n",
      "residuals_norm 0.300608223825\n",
      "increments_norm 0.000683257613081\n",
      "residuals_norm 0.30995564042\n",
      "increments_norm 0.000642380777746\n",
      "residuals_norm 0.319893211596\n",
      "increments_norm 0.000558649404281\n",
      "residuals_norm 0.32932827341\n",
      "increments_norm 0.000447188069987\n",
      "residuals_norm 0.336305834009\n",
      "increments_norm 0.00032092943526\n",
      "residuals_norm 0.339791345999\n",
      "increments_norm 0.000190495595986\n",
      "residuals_norm 0.352076445323\n",
      "increments_norm 6.42555838303e-05\n",
      "residuals_norm 0.372481375454\n",
      "increments_norm 5.15121039082e-05\n",
      "residuals_norm 0.404392160077\n",
      "increments_norm 0.00015239874802\n",
      "residuals_norm 0.435782202831\n",
      "increments_norm 0.000235617660755\n",
      "residuals_norm 0.457154398834\n",
      "increments_norm 0.000299750134422\n",
      "residuals_norm 0.463883659835\n",
      "increments_norm 0.000344498687467\n",
      "residuals_norm 0.460248494081\n",
      "increments_norm 0.000370456129795\n",
      "residuals_norm 0.464040416909\n",
      "increments_norm 0.000378895465326\n",
      "residuals_norm 0.475661557053\n",
      "increments_norm 0.000371583177703\n",
      "residuals_norm 0.484102284142\n",
      "increments_norm 0.000350616743437\n",
      "residuals_norm 0.519014831281\n",
      "increments_norm 0.000318286060985\n",
      "residuals_norm 0.573937997931\n",
      "increments_norm 0.000276957722791\n",
      "residuals_norm 0.660030587356\n",
      "increments_norm 0.000228980575396\n",
      "residuals_norm 0.770872827584\n",
      "increments_norm 0.000176610736303\n",
      "residuals_norm 0.897787752671\n",
      "increments_norm 0.000121954088543\n",
      "residuals_norm 0.999431684822\n",
      "increments_norm 6.69242300725e-05\n",
      "residuals_norm 1.05903132258\n",
      "increments_norm 1.32138826566e-05\n",
      "residuals_norm 1.09964257574\n",
      "increments_norm 3.77221720635e-05\n",
      "residuals_norm 1.13112532061\n",
      "increments_norm 8.46744212539e-05\n",
      "residuals_norm 1.14886556786\n",
      "increments_norm 0.000126677959317\n",
      "residuals_norm 1.12876892304\n",
      "increments_norm 0.000163005309673\n",
      "residuals_norm 1.05490506167\n",
      "increments_norm 0.000193154169208\n",
      "residuals_norm 0.964298528594\n",
      "increments_norm 0.000216831294395\n",
      "residuals_norm 0.866063781718\n",
      "increments_norm 0.000233933612977\n",
      "residuals_norm 0.771845531639\n",
      "increments_norm 0.000244527501727\n",
      "residuals_norm 0.725010421023\n",
      "increments_norm 0.000248827027563\n",
      "residuals_norm 0.754745552663\n",
      "increments_norm 0.000247171824848\n",
      "residuals_norm 0.857299463425\n",
      "increments_norm 0.000240005164558\n",
      "residuals_norm 1.03057340397\n",
      "increments_norm 0.000227852666461\n",
      "0.213833593312\n"
     ]
    },
    {
     "ename": "RuntimeError",
     "evalue": "Residual grew by printed value!",
     "output_type": "error",
     "traceback": [
      "\u001b[0;31m---------------------------------------------------------------------------\u001b[0m",
      "\u001b[0;31mRuntimeError\u001b[0m                              Traceback (most recent call last)",
      "\u001b[0;32m<ipython-input-3-499bc6e08a86>\u001b[0m in \u001b[0;36m<module>\u001b[0;34m()\u001b[0m\n\u001b[1;32m      1\u001b[0m \u001b[0mget_ipython\u001b[0m\u001b[0;34m(\u001b[0m\u001b[0;34m)\u001b[0m\u001b[0;34m.\u001b[0m\u001b[0mrun_line_magic\u001b[0m\u001b[0;34m(\u001b[0m\u001b[0;34m'debug'\u001b[0m\u001b[0;34m,\u001b[0m \u001b[0;34m''\u001b[0m\u001b[0;34m)\u001b[0m\u001b[0;34m\u001b[0m\u001b[0m\n\u001b[0;32m----> 2\u001b[0;31m \u001b[0mcenterline\u001b[0m \u001b[0;34m=\u001b[0m \u001b[0mcantilever\u001b[0m\u001b[0;34m.\u001b[0m\u001b[0mrun_simulation\u001b[0m\u001b[0;34m(\u001b[0m\u001b[0;34m)\u001b[0m\u001b[0;34m\u001b[0m\u001b[0m\n\u001b[0m",
      "\u001b[0;32m~/Dropbox/Master/17Wi/Indien/ElasticRods/solver.py\u001b[0m in \u001b[0;36mrun_simulation\u001b[0;34m(self)\u001b[0m\n\u001b[1;32m    146\u001b[0m         \u001b[0;32mif\u001b[0m \u001b[0mself\u001b[0m\u001b[0;34m.\u001b[0m\u001b[0mmaterial\u001b[0m\u001b[0;34m.\u001b[0m\u001b[0mgeometry\u001b[0m \u001b[0;32mis\u001b[0m \u001b[0;32mnot\u001b[0m \u001b[0mself\u001b[0m\u001b[0;34m.\u001b[0m\u001b[0mgeometry\u001b[0m\u001b[0;34m:\u001b[0m\u001b[0;34m\u001b[0m\u001b[0m\n\u001b[1;32m    147\u001b[0m             \u001b[0;32mraise\u001b[0m \u001b[0mRuntimeError\u001b[0m\u001b[0;34m(\u001b[0m\u001b[0;34m'The material is not referencing the same geometry.'\u001b[0m\u001b[0;34m)\u001b[0m\u001b[0;34m\u001b[0m\u001b[0m\n\u001b[0;32m--> 148\u001b[0;31m         \u001b[0mcenterline\u001b[0m \u001b[0;34m=\u001b[0m \u001b[0mnewton_rhapson_scheme\u001b[0m\u001b[0;34m(\u001b[0m\u001b[0mself\u001b[0m\u001b[0;34m.\u001b[0m\u001b[0mnumber_of_nodes\u001b[0m\u001b[0;34m,\u001b[0m \u001b[0mself\u001b[0m\u001b[0;34m.\u001b[0m\u001b[0mnumber_of_elements\u001b[0m\u001b[0;34m,\u001b[0m \u001b[0mself\u001b[0m\u001b[0;34m.\u001b[0m\u001b[0mboundary_condition\u001b[0m\u001b[0;34m,\u001b[0m \u001b[0mself\u001b[0m\u001b[0;34m.\u001b[0m\u001b[0mload_control_parameters\u001b[0m\u001b[0;34m[\u001b[0m\u001b[0;36m0\u001b[0m\u001b[0;34m]\u001b[0m\u001b[0;34m,\u001b[0m \u001b[0mself\u001b[0m\u001b[0;34m.\u001b[0m\u001b[0mload_control_parameters\u001b[0m\u001b[0;34m[\u001b[0m\u001b[0;36m1\u001b[0m\u001b[0;34m]\u001b[0m\u001b[0;34m,\u001b[0m \u001b[0mself\u001b[0m\u001b[0;34m.\u001b[0m\u001b[0mgeometry\u001b[0m\u001b[0;34m.\u001b[0m\u001b[0mlength\u001b[0m\u001b[0;34m,\u001b[0m \u001b[0mself\u001b[0m\u001b[0;34m.\u001b[0m\u001b[0mmaterial\u001b[0m\u001b[0;34m.\u001b[0m\u001b[0melasticity_tensor\u001b[0m\u001b[0;34m)\u001b[0m\u001b[0;34m\u001b[0m\u001b[0m\n\u001b[0m\u001b[1;32m    149\u001b[0m         \u001b[0;32mreturn\u001b[0m \u001b[0mcenterline\u001b[0m\u001b[0;34m\u001b[0m\u001b[0m\n\u001b[1;32m    150\u001b[0m \u001b[0;34m\u001b[0m\u001b[0m\n",
      "\u001b[0;32m~/Dropbox/Master/17Wi/Indien/ElasticRods/solver.py\u001b[0m in \u001b[0;36mnewton_rhapson_scheme\u001b[0;34m(number_of_nodes, number_of_elements, boundary_condition, load_control_parameter_residuals, load_control_parameter_increments, length, elasticity_tensor)\u001b[0m\n\u001b[1;32m    366\u001b[0m         \u001b[0;32mif\u001b[0m \u001b[0mnew_residuals_norm\u001b[0m \u001b[0;34m-\u001b[0m \u001b[0mresiduals_norm\u001b[0m \u001b[0;34m>\u001b[0m \u001b[0;36m0.2\u001b[0m\u001b[0;34m:\u001b[0m\u001b[0;34m\u001b[0m\u001b[0m\n\u001b[1;32m    367\u001b[0m             \u001b[0mprint\u001b[0m\u001b[0;34m(\u001b[0m\u001b[0mnew_residuals_norm\u001b[0m \u001b[0;34m-\u001b[0m \u001b[0mresiduals_norm\u001b[0m\u001b[0;34m)\u001b[0m\u001b[0;34m\u001b[0m\u001b[0m\n\u001b[0;32m--> 368\u001b[0;31m             \u001b[0;32mraise\u001b[0m \u001b[0mRuntimeError\u001b[0m\u001b[0;34m(\u001b[0m\u001b[0;34m'Residual grew by printed value!'\u001b[0m\u001b[0;34m)\u001b[0m\u001b[0;34m\u001b[0m\u001b[0m\n\u001b[0m\u001b[1;32m    369\u001b[0m         \u001b[0mresiduals_norm\u001b[0m \u001b[0;34m=\u001b[0m \u001b[0mnew_residuals_norm\u001b[0m\u001b[0;34m\u001b[0m\u001b[0m\n\u001b[1;32m    370\u001b[0m         \u001b[0mprint\u001b[0m\u001b[0;34m(\u001b[0m\u001b[0;34m'residuals_norm'\u001b[0m\u001b[0;34m,\u001b[0m \u001b[0mresiduals_norm\u001b[0m\u001b[0;34m)\u001b[0m\u001b[0;34m\u001b[0m\u001b[0m\n",
      "\u001b[0;31mRuntimeError\u001b[0m: Residual grew by printed value!"
     ]
    }
   ],
   "source": [
    "%debug\n",
    "centerline = cantilever.run_simulation()"
   ]
  },
  {
   "cell_type": "code",
   "execution_count": null,
   "metadata": {},
   "outputs": [],
   "source": [
    "auxiliary.plot_centerline(centerline)"
   ]
  },
  {
   "cell_type": "code",
   "execution_count": null,
   "metadata": {},
   "outputs": [],
   "source": [
    "print(centerline[:, n_el], rotation[:, n_el])"
   ]
  },
  {
   "cell_type": "markdown",
   "metadata": {},
   "source": [
    "## Sandbox ..."
   ]
  },
  {
   "cell_type": "code",
   "execution_count": null,
   "metadata": {},
   "outputs": [],
   "source": []
  },
  {
   "cell_type": "code",
   "execution_count": null,
   "metadata": {},
   "outputs": [],
   "source": []
  },
  {
   "cell_type": "code",
   "execution_count": null,
   "metadata": {},
   "outputs": [],
   "source": []
  }
 ],
 "metadata": {
  "kernelspec": {
   "display_name": "Python 3",
   "language": "python",
   "name": "python3"
  },
  "language_info": {
   "codemirror_mode": {
    "name": "ipython",
    "version": 3
   },
   "file_extension": ".py",
   "mimetype": "text/x-python",
   "name": "python",
   "nbconvert_exporter": "python",
   "pygments_lexer": "ipython3",
   "version": "3.5.4"
  }
 },
 "nbformat": 4,
 "nbformat_minor": 2
}
